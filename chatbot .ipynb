{
 "cells": [
  {
   "cell_type": "code",
   "execution_count": 1,
   "id": "956879fc",
   "metadata": {
    "scrolled": true
   },
   "outputs": [
    {
     "name": "stdout",
     "output_type": "stream",
     "text": [
      "🤖 Welcome to the University of Leeds beckeets Chatbot!\n",
      "✨ Before we start, can you tell me your name please? ram\n",
      "Hi ram! I’m excited to chat with you. 😊\n",
      "You can call me Alex. How can I assist you today? 🌟\n",
      "ram: coffe\n",
      "Alex: I’m not sure about that,ram, but I’d love to hear your thoughts.\n",
      "ram: bye\n",
      "Alex: It was wonderful chatting with you, ram. Take care! 👋\n"
     ]
    }
   ],
   "source": [
    "import random\n",
    "\n",
    "# List of possible agent names\n",
    "agent_names = [\"Alex\", \"Siri\", \"Pra\", \"Sushant\", \"Pankaj\"]\n",
    "\n",
    "# Keyword-based responses\n",
    "keyword_responses = {\n",
    "    \"coffee\": \"Ah, coffee! The campus coffee bar opens at 8 AM and closes at 6 PM,{name}. ☕\",\n",
    "    \"help\": \"Sure, {name}! How can I help you today? 😊\",\n",
    "    \"python\": \"Python is a great programming language! Are you working on a project in Python,{name}?\",\n",
    "    \"sport\": \"Sports are exciting! Do you play any sports?\",\n",
    "    \"library\": \"The library is a great place to study. It’s open from 8 AM to 9 PM,{name}. 📚\",\n",
    "    \"thankyou\": \"Welcome {name} 😊, Have a great day ahead!\",\n",
    "    \"assignment\":\" If you are having any kind of trouble submitting ,Please contact the examination department located at 3rd floor.\",\n",
    "    \"orbund\":\"If you are having any trouble using orbund portal please contact SSD department.\",\n",
    "    \"marks\":\"Your overall mark is shown in VLE please check marks tab in blackboard!\",\n",
    "    \"fees\":\" To get updated about your tution fees due please visit the finance department! \",\n",
    "}\n",
    "\n",
    "# Random responses\n",
    "random_responses = [\n",
    "    \"Hmm, that’s interesting. Could you tell me more,{name}?\",\n",
    "    \"I’m not sure about that,{name}, but I’d love to hear your thoughts.\",\n",
    "    \"That’s a great topic,{name}! Let me know more about it.\",\n",
    "    \"I’m not entirely sure, but you’ve got me curious,{name}!\",\n",
    "    \"Wow,{name}, that’s a fascinating question! Tell me more.\",\n",
    "]\n",
    "\n",
    "# Function to detect keyword responses\n",
    "def find_keyword_response(user_input, user_name):\n",
    "    \"\"\"Check for keywords in user input and return a relevant response.\"\"\"\n",
    "    user_input_lower = user_input.lower()\n",
    "   \n",
    "    # Convert input to lowercase for case-insensitive matching\n",
    "    for keyword, response in keyword_responses.items():\n",
    "        if keyword in user_input_lower:  # Check if the keyword is in the user input\n",
    "            return response.format(name=user_name)\n",
    "    return None\n",
    "\n",
    "# Main chatbot function\n",
    "def chat_bot():\n",
    "    # Greet the user and ask for their name\n",
    "    print(\"🤖 Welcome to the University of Leeds beckeets Chatbot!\")\n",
    "    user_name = input(\"✨ Before we start, can you tell me your name please? \").strip()\n",
    "    print(f\"Hi {user_name}! I’m excited to chat with you. 😊\")\n",
    "\n",
    "    # Randomly assign an agent name\n",
    "    agent_name = random.choice(agent_names)\n",
    "    print(f\"You can call me {agent_name}. How can I assist you today? 🌟\")\n",
    "\n",
    "    # Main loop to keep the conversation going\n",
    "    while True:\n",
    "        user_input = input(f\"{user_name}: \")\n",
    "\n",
    "        # Exit conditions\n",
    "        if user_input.lower() in [\"bye\", \"exit\", \"quit\", \"goodbye\", \"see you\",\"okaybye\"]:\n",
    "            print(f\"{agent_name}: It was wonderful chatting with you, {user_name}. Take care! 👋\")\n",
    "            break\n",
    "\n",
    "        # Check for keyword-based responses\n",
    "        response = find_keyword_response(user_input, user_name)\n",
    "\n",
    "        if response:\n",
    "            print(f\"{agent_name}: {response}\")\n",
    "        else:\n",
    "            # If no keyword matched, provide a random response\n",
    "            print(f\"{agent_name}: {random.choice(random_responses).format(name=user_name)}\")\n",
    "\n",
    "# Run the chatbot\n",
    "chat_bot()"
   ]
  },
  {
   "cell_type": "code",
   "execution_count": null,
   "id": "c5d8e56d",
   "metadata": {},
   "outputs": [],
   "source": []
  }
 ],
 "metadata": {
  "kernelspec": {
   "display_name": "Python 3 (ipykernel)",
   "language": "python",
   "name": "python3"
  },
  "language_info": {
   "codemirror_mode": {
    "name": "ipython",
    "version": 3
   },
   "file_extension": ".py",
   "mimetype": "text/x-python",
   "name": "python",
   "nbconvert_exporter": "python",
   "pygments_lexer": "ipython3",
   "version": "3.11.7"
  }
 },
 "nbformat": 4,
 "nbformat_minor": 5
}
